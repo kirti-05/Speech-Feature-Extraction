{
 "cells": [
  {
   "cell_type": "code",
   "execution_count": 2,
   "metadata": {},
   "outputs": [],
   "source": [
    "import librosa\n",
    "from librosa import feature\n",
    "import numpy as np\n",
    "\n",
    "fn_list_i = [\n",
    "    feature.chroma_stft,\n",
    "    feature.spectral_centroid,\n",
    "    feature.spectral_bandwidth,\n",
    "    feature.spectral_rolloff,\n",
    "    feature.mfcc\n",
    "]\n",
    "  \n",
    "fn_list_ii = [\n",
    "    feature.rms,\n",
    "    feature.zero_crossing_rate\n",
    "]\n",
    "\n",
    "def get_feature_vector(y,sr):  \n",
    "  feat_vect_i = [ np.mean(funct(y,sr)) for funct in fn_list_i]\n",
    "  feat_vect_ii = [ np.mean(funct(y)) for funct in fn_list_ii]\n",
    "  \n",
    "  feature_vector =   feat_vect_i + feat_vect_ii  \n",
    "  return feature_vector"
   ]
  },
  {
   "cell_type": "code",
   "execution_count": 4,
   "metadata": {},
   "outputs": [
    {
     "name": "stderr",
     "output_type": "stream",
     "text": [
      "<ipython-input-4-7908e04a1d5e>:8: DeprecationWarning: Call to deprecated function get_sheet_by_name (Use wb[sheetname]).\n",
      "  sheet = wb.get_sheet_by_name('Coswara')\n"
     ]
    },
    {
     "name": "stdout",
     "output_type": "stream",
     "text": [
      ". [[0.5044365, 4322.098808372764, 4050.0909280652677, 9128.577686915887, -20.024548, 0.048795305, 0.05180800963785047]]\n",
      ". [[0.40570438, 1676.1476690889708, 1337.476324788185, 2764.3186475409834, -16.561134, 0.068035126, 0.05857934170081967]]\n",
      ". [[0.23752162, 2554.587373069249, 2023.66215866954, 4683.927741635688, -29.04733, 0.013268293, 0.04293970724907063]]\n",
      ". [[0.5597116, 2304.678907305965, 3438.232299332146, 3873.6576021634614, -25.320997, 0.0018134702, 0.04514723557692308]]\n",
      ". [[0.39355627, 1935.3824115301977, 2792.341395756527, 3111.3970588235293, -22.399897, 0.034677375, 0.03789981617647059]]\n",
      "[]\n",
      ". [[0.37053734, 2988.9264317590228, 3072.934664259961, 5037.038725204201, -23.301939, 0.051412452, 0.08215773592473746]]\n"
     ]
    }
   ],
   "source": [
    "import openpyxl\n",
    "import scipy.io.wavfile as wav\n",
    "import os\n",
    "from glob import glob\n",
    "import csv\n",
    "\n",
    "wb = openpyxl.load_workbook(r'E:\\kirti\\minor project\\Coswara-Data2\\Coswara 2020-10-03_copy.xlsx')\n",
    "sheet = wb.get_sheet_by_name('Coswara')\n",
    "sheet['C1']\n",
    "r=sheet.max_row\n",
    "for i in range (2,r):\n",
    "    if((sheet.cell(row=i,column=3).value)=='positive_moderate'):\n",
    "        f1=str((sheet.cell(row=i,column=1).value))\n",
    "        dirc = os.path.join(\"E:/kirti/minor project/Coswara Data_with_no_date/\"+ f1+ \"/cough-heavy\")\n",
    "        my_data_files = glob(dirc + '*.wav')\n",
    "        my_audios_feat = []\n",
    "        for file in my_data_files:\n",
    "            '''y is the time series array of the audio file, a 1D np.ndarray sr is the sampling rate, a number'''  \n",
    "            y,sr = librosa.load(file,sr=None)   \n",
    "            feature_vector = get_feature_vector(y, sr) \n",
    "            my_audios_feat.append(feature_vector)  \n",
    "            print('.', end= \" \")\n",
    "        print(my_audios_feat)\n",
    "        \n",
    "        my_output = r'E:\\kirti\\minor project\\code\\feature extraction\\cough-heavy(positive_moderate).csv'\n",
    "        header =[\n",
    "            'chroma_stft',\n",
    "            'spectral_centroid',\n",
    "            'spectral_bandwidth',\n",
    "            'spectral_rolloff',\n",
    "            'rmse',\n",
    "            'zero_crossing_rate',\n",
    "            'mfccs',]\n",
    "        #WARNING : this overwrites the file each time. Be aware of this because feature extraction step takes time\n",
    "        with open(my_output,'a') as f:\n",
    "            csv_writer = csv.writer(f, delimiter = ',')\n",
    "            csv_writer.writerows(my_audios_feat)"
   ]
  },
  {
   "cell_type": "code",
   "execution_count": null,
   "metadata": {},
   "outputs": [],
   "source": []
  }
 ],
 "metadata": {
  "kernelspec": {
   "display_name": "Python 3",
   "language": "python",
   "name": "python3"
  },
  "language_info": {
   "codemirror_mode": {
    "name": "ipython",
    "version": 3
   },
   "file_extension": ".py",
   "mimetype": "text/x-python",
   "name": "python",
   "nbconvert_exporter": "python",
   "pygments_lexer": "ipython3",
   "version": "3.8.3"
  }
 },
 "nbformat": 4,
 "nbformat_minor": 4
}
